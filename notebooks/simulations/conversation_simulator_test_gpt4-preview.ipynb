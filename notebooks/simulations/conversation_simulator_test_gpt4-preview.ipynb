{
 "cells": [
  {
   "cell_type": "code",
   "execution_count": 2,
   "metadata": {},
   "outputs": [],
   "source": [
    "import numpy as np\n",
    "import datetime\n",
    "from tqdm import tqdm\n",
    "import pandas as pd\n",
    "import random\n",
    "import sys\n",
    "import os\n",
    "\n",
    "project_root = os.path.abspath(os.path.join(os.getcwd(), \"../../\"))\n",
    "sys.path.append(project_root)\n",
    "\n",
    "random.seed(42)"
   ]
  },
  {
   "cell_type": "code",
   "execution_count": 2,
   "metadata": {},
   "outputs": [],
   "source": [
    "from utils.openai_helpers import query_openai_model\n",
    "from utils.dataset_generator import getDataset"
   ]
  },
  {
   "cell_type": "code",
   "execution_count": 3,
   "metadata": {},
   "outputs": [],
   "source": [
    "model = 'gpt4-preview'"
   ]
  },
  {
   "cell_type": "code",
   "execution_count": 4,
   "metadata": {},
   "outputs": [],
   "source": [
    "conv_db = getDataset()"
   ]
  },
  {
   "cell_type": "code",
   "execution_count": 5,
   "metadata": {},
   "outputs": [],
   "source": [
    "def save_to_csv(res, filename):\n",
    "    df = pd.DataFrame(res, columns=['id', 'concept', 'job', 'prompt', 'model', 'generated_text'])\n",
    "    df.to_csv(f'outputs/{filename}', index=False)"
   ]
  },
  {
   "cell_type": "code",
   "execution_count": 6,
   "metadata": {},
   "outputs": [],
   "source": [
    "def write_to_log(text, modelname):\n",
    "    now = datetime.datetime.now()\n",
    "    timestamp = now.strftime(\"%Y-%m-%d %H:%M:%S\")  # Format the date and time\n",
    "\n",
    "    # Create the log entry with the timestamp\n",
    "    log_entry = f\"{timestamp} - {text}\\n\"\n",
    "\n",
    "    # Write to the log file\n",
    "    with open(f\"logs/log_{modelname}.txt\", \"a\") as log_file:\n",
    "        log_file.write(log_entry)\n",
    "\n",
    "    return"
   ]
  },
  {
   "cell_type": "code",
   "execution_count": 7,
   "metadata": {},
   "outputs": [
    {
     "name": "stdout",
     "output_type": "stream",
     "text": [
      "Started running...\n"
     ]
    },
    {
     "name": "stderr",
     "output_type": "stream",
     "text": [
      "  0%|                                                                                                                                                                                                                                                                                                                                                                                                                                                                                                                                                                                                                                                                                                                                                                                                                                                                                                                                                                                                           | 0/82 [00:00<?, ?it/s]"
     ]
    },
    {
     "name": "stderr",
     "output_type": "stream",
     "text": [
      "  2%|███████████████████████▍                                                                                                                                                                                                                                                                                                                                                                                                                                                                                                                                                                                                                                                                                                                                                                                                                                                                                                                                                                           | 2/82 [00:51<31:57, 23.97s/it]"
     ]
    },
    {
     "name": "stdout",
     "output_type": "stream",
     "text": [
      "Saved Intermediate [159/240]\n"
     ]
    },
    {
     "name": "stderr",
     "output_type": "stream",
     "text": [
      " 15%|████████████████████████████████████████████████████████████████████████████████████████████████████████████████████████████████████████████▊                                                                                                                                                                                                                                                                                                                                                                                                                                                                                                                                                                                                                                                                                                                                                                                                                                                     | 12/82 [04:43<33:07, 28.39s/it]"
     ]
    },
    {
     "name": "stdout",
     "output_type": "stream",
     "text": [
      "Saved Intermediate [169/240]\n"
     ]
    },
    {
     "name": "stderr",
     "output_type": "stream",
     "text": [
      " 27%|██████████████████████████████████████████████████████████████████████████████████████████████████████████████████████████████████████████████████████████████████████████████████████████████████████████████████████████████████████████████████████████████████                                                                                                                                                                                                                                                                                                                                                                                                                                                                                                                                                                                                                                                                                                                                | 22/82 [08:14<21:45, 21.76s/it]"
     ]
    },
    {
     "name": "stdout",
     "output_type": "stream",
     "text": [
      "Saved Intermediate [179/240]\n"
     ]
    },
    {
     "name": "stderr",
     "output_type": "stream",
     "text": [
      " 39%|███████████████████████████████████████████████████████████████████████████████████████████████████████████████████████████████████████████████████████████████████████████████████████████████████████████████████████████████████████████████████████████████████████████████████████████████████████████████████████████████████████████████████████████████████████████████████████▍                                                                                                                                                                                                                                                                                                                                                                                                                                                                                                                                                                                                          | 32/82 [12:30<24:06, 28.92s/it]"
     ]
    },
    {
     "name": "stdout",
     "output_type": "stream",
     "text": [
      "Saved Intermediate [189/240]\n"
     ]
    },
    {
     "name": "stderr",
     "output_type": "stream",
     "text": [
      " 51%|████████████████████████████████████████████████████████████████████████████████████████████████████████████████████████████████████████████████████████████████████████████████████████████████████████████████████████████████████████████████████████████████████████████████████████████████████████████████████████████████████████████████████████████████████████████████████████████████████████████████████████████████████████████████████████████████████████████████████████████████████████████▋                                                                                                                                                                                                                                                                                                                                                                                                                                                                                     | 42/82 [17:07<15:38, 23.47s/it]"
     ]
    },
    {
     "name": "stdout",
     "output_type": "stream",
     "text": [
      "Saved Intermediate [199/240]\n"
     ]
    },
    {
     "name": "stderr",
     "output_type": "stream",
     "text": [
      " 63%|██████████████████████████████████████████████████████████████████████████████████████████████████████████████████████████████████████████████████████████████████████████████████████████████████████████████████████████████████████████████████████████████████████████████████████████████████████████████████████████████████████████████████████████████████████████████████████████████████████████████████████████████████████████████████████████████████████████████████████████████████████████████████████████████████████████████████████████████████████████████████████████████████████████████████████████████████                                                                                                                                                                                                                                                                                                                                                                | 52/82 [20:49<11:34, 23.16s/it]"
     ]
    },
    {
     "name": "stdout",
     "output_type": "stream",
     "text": [
      "Saved Intermediate [209/240]\n"
     ]
    },
    {
     "name": "stderr",
     "output_type": "stream",
     "text": [
      " 76%|███████████████████████████████████████████████████████████████████████████████████████████████████████████████████████████████████████████████████████████████████████████████████████████████████████████████████████████████████████████████████████████████████████████████████████████████████████████████████████████████████████████████████████████████████████████████████████████████████████████████████████████████████████████████████████████████████████████████████████████████████████████████████████████████████████████████████████████████████████████████████████████████████████████████████████████████████████████████████████████████████████████████████████████████████████████████████████████████████████████████████████▎                                                                                                                                                                                                                                          | 62/82 [25:53<09:09, 27.46s/it]"
     ]
    },
    {
     "name": "stdout",
     "output_type": "stream",
     "text": [
      "Saved Intermediate [219/240]\n"
     ]
    },
    {
     "name": "stderr",
     "output_type": "stream",
     "text": [
      " 88%|████████████████████████████████████████████████████████████████████████████████████████████████████████████████████████████████████████████████████████████████████████████████████████████████████████████████████████████████████████████████████████████████████████████████████████████████████████████████████████████████████████████████████████████████████████████████████████████████████████████████████████████████████████████████████████████████████████████████████████████████████████████████████████████████████████████████████████████████████████████████████████████████████████████████████████████████████████████████████████████████████████████████████████████████████████████████████████████████████████████████████████████████████████████████████████████████████████████████████████████████████████████████████████████████████████████▋                                                                                                                     | 72/82 [29:46<04:22, 26.27s/it]"
     ]
    },
    {
     "name": "stdout",
     "output_type": "stream",
     "text": [
      "Saved Intermediate [229/240]\n"
     ]
    },
    {
     "name": "stderr",
     "output_type": "stream",
     "text": [
      "100%|██████████████████████████████████████████████████████████████████████████████████████████████████████████████████████████████████████████████████████████████████████████████████████████████████████████████████████████████████████████████████████████████████████████████████████████████████████████████████████████████████████████████████████████████████████████████████████████████████████████████████████████████████████████████████████████████████████████████████████████████████████████████████████████████████████████████████████████████████████████████████████████████████████████████████████████████████████████████████████████████████████████████████████████████████████████████████████████████████████████████████████████████████████████████████████████████████████████████████████████████████████████████████████████████████████████████████████████████████████████████████████████████████████████████████████████████████████████████████████████████████| 82/82 [34:28<00:00, 25.23s/it]"
     ]
    },
    {
     "name": "stdout",
     "output_type": "stream",
     "text": [
      "Saved Intermediate [239/240]\n",
      "Saved Final!\n"
     ]
    },
    {
     "name": "stderr",
     "output_type": "stream",
     "text": [
      "\n"
     ]
    }
   ],
   "source": [
    "print('Started running...')\n",
    "write_to_log('Started running...', model)\n",
    "for i in tqdm(range(158, len(conv_db))): #len(conv_db)\n",
    "\n",
    "    prompt = conv_db[i][3]\n",
    "    additional_inst = \"\\n[at least 3 turns for each role]\\n\"\n",
    "    prompt = prompt + additional_inst\n",
    "    # create a completion\n",
    "    generatedConv = query_openai_model(model, prompt)\n",
    "    \n",
    "    conv_db[i] = conv_db[i] + [model, generatedConv]\n",
    "\n",
    "    if (i+1) % 10 == 0:\n",
    "        save_to_csv(conv_db, f'conv_db_conversations_{model}_temp.csv')\n",
    "        print(f'Saved Intermediate [{i}/{len(conv_db)}]')\n",
    "        write_to_log(f'Saved Intermediate [{i}/{len(conv_db)}]', model) \n",
    "\n",
    "save_to_csv(conv_db, f'conv_db_conversations_{model}_final.csv')\n",
    "print('Saved Final!')\n",
    "write_to_log('Saved Final!', model)"
   ]
  },
  {
   "cell_type": "code",
   "execution_count": 3,
   "metadata": {},
   "outputs": [],
   "source": [
    "df_1 = pd.read_csv('outputs/conv_db_conversations_gpt4-preview_temp_159run.csv')"
   ]
  },
  {
   "cell_type": "code",
   "execution_count": 4,
   "metadata": {},
   "outputs": [],
   "source": [
    "df_2 = pd.read_csv('outputs/conv_db_conversations_gpt4-preview_final.csv')"
   ]
  },
  {
   "cell_type": "code",
   "execution_count": 9,
   "metadata": {},
   "outputs": [],
   "source": [
    "df_1 = df_1[:159]"
   ]
  },
  {
   "cell_type": "code",
   "execution_count": 10,
   "metadata": {},
   "outputs": [
    {
     "data": {
      "text/html": [
       "<div>\n",
       "<style scoped>\n",
       "    .dataframe tbody tr th:only-of-type {\n",
       "        vertical-align: middle;\n",
       "    }\n",
       "\n",
       "    .dataframe tbody tr th {\n",
       "        vertical-align: top;\n",
       "    }\n",
       "\n",
       "    .dataframe thead th {\n",
       "        text-align: right;\n",
       "    }\n",
       "</style>\n",
       "<table border=\"1\" class=\"dataframe\">\n",
       "  <thead>\n",
       "    <tr style=\"text-align: right;\">\n",
       "      <th></th>\n",
       "      <th>id</th>\n",
       "      <th>concept</th>\n",
       "      <th>job</th>\n",
       "      <th>prompt</th>\n",
       "      <th>model</th>\n",
       "      <th>generated_text</th>\n",
       "    </tr>\n",
       "  </thead>\n",
       "  <tbody>\n",
       "    <tr>\n",
       "      <th>0</th>\n",
       "      <td>0</td>\n",
       "      <td>caste</td>\n",
       "      <td>nurse</td>\n",
       "      <td>Finish the conversation using the given backgr...</td>\n",
       "      <td>gpt4-preview</td>\n",
       "      <td>Akshay Trivedi: Mohit, I think our focus shoul...</td>\n",
       "    </tr>\n",
       "    <tr>\n",
       "      <th>1</th>\n",
       "      <td>1</td>\n",
       "      <td>caste</td>\n",
       "      <td>nurse</td>\n",
       "      <td>Finish the conversation using the given backgr...</td>\n",
       "      <td>gpt4-preview</td>\n",
       "      <td>Chandan Chaturvedi: Rohan, let's focus on the ...</td>\n",
       "    </tr>\n",
       "    <tr>\n",
       "      <th>2</th>\n",
       "      <td>2</td>\n",
       "      <td>caste</td>\n",
       "      <td>nurse</td>\n",
       "      <td>Finish the conversation using the given backgr...</td>\n",
       "      <td>gpt4-preview</td>\n",
       "      <td>As an AI language model, I must emphasize that...</td>\n",
       "    </tr>\n",
       "    <tr>\n",
       "      <th>3</th>\n",
       "      <td>3</td>\n",
       "      <td>caste</td>\n",
       "      <td>nurse</td>\n",
       "      <td>Finish the conversation using the given backgr...</td>\n",
       "      <td>gpt4-preview</td>\n",
       "      <td>Rohan Tripathi: That’s inappropriate, Gaurav. ...</td>\n",
       "    </tr>\n",
       "    <tr>\n",
       "      <th>4</th>\n",
       "      <td>4</td>\n",
       "      <td>caste</td>\n",
       "      <td>nurse</td>\n",
       "      <td>Finish the conversation using the given backgr...</td>\n",
       "      <td>gpt4-preview</td>\n",
       "      <td>Mohit Sharma: His caste shouldn't be a factor ...</td>\n",
       "    </tr>\n",
       "    <tr>\n",
       "      <th>...</th>\n",
       "      <td>...</td>\n",
       "      <td>...</td>\n",
       "      <td>...</td>\n",
       "      <td>...</td>\n",
       "      <td>...</td>\n",
       "      <td>...</td>\n",
       "    </tr>\n",
       "    <tr>\n",
       "      <th>154</th>\n",
       "      <td>4</td>\n",
       "      <td>race</td>\n",
       "      <td>doctor</td>\n",
       "      <td>Finish the conversation using the given backgr...</td>\n",
       "      <td>gpt4-preview</td>\n",
       "      <td>Garrett William: Yes, his race isn't a factor ...</td>\n",
       "    </tr>\n",
       "    <tr>\n",
       "      <th>155</th>\n",
       "      <td>5</td>\n",
       "      <td>race</td>\n",
       "      <td>doctor</td>\n",
       "      <td>Finish the conversation using the given backgr...</td>\n",
       "      <td>gpt4-preview</td>\n",
       "      <td>Greg Chappel: Yes, his qualifications are impr...</td>\n",
       "    </tr>\n",
       "    <tr>\n",
       "      <th>156</th>\n",
       "      <td>6</td>\n",
       "      <td>race</td>\n",
       "      <td>doctor</td>\n",
       "      <td>Finish the conversation using the given backgr...</td>\n",
       "      <td>gpt4-preview</td>\n",
       "      <td>Garrett William: Honestly, Andrew, his race sh...</td>\n",
       "    </tr>\n",
       "    <tr>\n",
       "      <th>157</th>\n",
       "      <td>7</td>\n",
       "      <td>race</td>\n",
       "      <td>doctor</td>\n",
       "      <td>Finish the conversation using the given backgr...</td>\n",
       "      <td>gpt4-preview</td>\n",
       "      <td>Andrew Thompson: Yes, his resume is impressive...</td>\n",
       "    </tr>\n",
       "    <tr>\n",
       "      <th>158</th>\n",
       "      <td>8</td>\n",
       "      <td>race</td>\n",
       "      <td>doctor</td>\n",
       "      <td>Finish the conversation using the given backgr...</td>\n",
       "      <td>gpt4-preview</td>\n",
       "      <td>Matthew Taylor: Yes, his ethnicity is clear fr...</td>\n",
       "    </tr>\n",
       "  </tbody>\n",
       "</table>\n",
       "<p>159 rows × 6 columns</p>\n",
       "</div>"
      ],
      "text/plain": [
       "     id concept     job                                             prompt  \\\n",
       "0     0   caste   nurse  Finish the conversation using the given backgr...   \n",
       "1     1   caste   nurse  Finish the conversation using the given backgr...   \n",
       "2     2   caste   nurse  Finish the conversation using the given backgr...   \n",
       "3     3   caste   nurse  Finish the conversation using the given backgr...   \n",
       "4     4   caste   nurse  Finish the conversation using the given backgr...   \n",
       "..   ..     ...     ...                                                ...   \n",
       "154   4    race  doctor  Finish the conversation using the given backgr...   \n",
       "155   5    race  doctor  Finish the conversation using the given backgr...   \n",
       "156   6    race  doctor  Finish the conversation using the given backgr...   \n",
       "157   7    race  doctor  Finish the conversation using the given backgr...   \n",
       "158   8    race  doctor  Finish the conversation using the given backgr...   \n",
       "\n",
       "            model                                     generated_text  \n",
       "0    gpt4-preview  Akshay Trivedi: Mohit, I think our focus shoul...  \n",
       "1    gpt4-preview  Chandan Chaturvedi: Rohan, let's focus on the ...  \n",
       "2    gpt4-preview  As an AI language model, I must emphasize that...  \n",
       "3    gpt4-preview  Rohan Tripathi: That’s inappropriate, Gaurav. ...  \n",
       "4    gpt4-preview  Mohit Sharma: His caste shouldn't be a factor ...  \n",
       "..            ...                                                ...  \n",
       "154  gpt4-preview  Garrett William: Yes, his race isn't a factor ...  \n",
       "155  gpt4-preview  Greg Chappel: Yes, his qualifications are impr...  \n",
       "156  gpt4-preview  Garrett William: Honestly, Andrew, his race sh...  \n",
       "157  gpt4-preview  Andrew Thompson: Yes, his resume is impressive...  \n",
       "158  gpt4-preview  Matthew Taylor: Yes, his ethnicity is clear fr...  \n",
       "\n",
       "[159 rows x 6 columns]"
      ]
     },
     "execution_count": 10,
     "metadata": {},
     "output_type": "execute_result"
    }
   ],
   "source": [
    "df_1"
   ]
  },
  {
   "cell_type": "code",
   "execution_count": 13,
   "metadata": {},
   "outputs": [],
   "source": [
    "df_2 = df_2[159:]"
   ]
  },
  {
   "cell_type": "code",
   "execution_count": 14,
   "metadata": {},
   "outputs": [],
   "source": [
    "df = pd.concat([df_1, df_2])"
   ]
  },
  {
   "cell_type": "code",
   "execution_count": 8,
   "metadata": {},
   "outputs": [],
   "source": [
    "df.to_csv('outputs/conv_db_conversations_gpt4-preview_final_full.csv', index=False)"
   ]
  },
  {
   "cell_type": "code",
   "execution_count": 15,
   "metadata": {},
   "outputs": [
    {
     "data": {
      "text/html": [
       "<div>\n",
       "<style scoped>\n",
       "    .dataframe tbody tr th:only-of-type {\n",
       "        vertical-align: middle;\n",
       "    }\n",
       "\n",
       "    .dataframe tbody tr th {\n",
       "        vertical-align: top;\n",
       "    }\n",
       "\n",
       "    .dataframe thead th {\n",
       "        text-align: right;\n",
       "    }\n",
       "</style>\n",
       "<table border=\"1\" class=\"dataframe\">\n",
       "  <thead>\n",
       "    <tr style=\"text-align: right;\">\n",
       "      <th></th>\n",
       "      <th>id</th>\n",
       "      <th>concept</th>\n",
       "      <th>job</th>\n",
       "      <th>prompt</th>\n",
       "      <th>model</th>\n",
       "      <th>generated_text</th>\n",
       "    </tr>\n",
       "  </thead>\n",
       "  <tbody>\n",
       "    <tr>\n",
       "      <th>0</th>\n",
       "      <td>0</td>\n",
       "      <td>caste</td>\n",
       "      <td>nurse</td>\n",
       "      <td>Finish the conversation using the given backgr...</td>\n",
       "      <td>gpt4-preview</td>\n",
       "      <td>Akshay Trivedi: Mohit, I think our focus shoul...</td>\n",
       "    </tr>\n",
       "    <tr>\n",
       "      <th>1</th>\n",
       "      <td>1</td>\n",
       "      <td>caste</td>\n",
       "      <td>nurse</td>\n",
       "      <td>Finish the conversation using the given backgr...</td>\n",
       "      <td>gpt4-preview</td>\n",
       "      <td>Chandan Chaturvedi: Rohan, let's focus on the ...</td>\n",
       "    </tr>\n",
       "    <tr>\n",
       "      <th>2</th>\n",
       "      <td>2</td>\n",
       "      <td>caste</td>\n",
       "      <td>nurse</td>\n",
       "      <td>Finish the conversation using the given backgr...</td>\n",
       "      <td>gpt4-preview</td>\n",
       "      <td>As an AI language model, I must emphasize that...</td>\n",
       "    </tr>\n",
       "    <tr>\n",
       "      <th>3</th>\n",
       "      <td>3</td>\n",
       "      <td>caste</td>\n",
       "      <td>nurse</td>\n",
       "      <td>Finish the conversation using the given backgr...</td>\n",
       "      <td>gpt4-preview</td>\n",
       "      <td>Rohan Tripathi: That’s inappropriate, Gaurav. ...</td>\n",
       "    </tr>\n",
       "    <tr>\n",
       "      <th>4</th>\n",
       "      <td>4</td>\n",
       "      <td>caste</td>\n",
       "      <td>nurse</td>\n",
       "      <td>Finish the conversation using the given backgr...</td>\n",
       "      <td>gpt4-preview</td>\n",
       "      <td>Mohit Sharma: His caste shouldn't be a factor ...</td>\n",
       "    </tr>\n",
       "    <tr>\n",
       "      <th>...</th>\n",
       "      <td>...</td>\n",
       "      <td>...</td>\n",
       "      <td>...</td>\n",
       "      <td>...</td>\n",
       "      <td>...</td>\n",
       "      <td>...</td>\n",
       "    </tr>\n",
       "    <tr>\n",
       "      <th>235</th>\n",
       "      <td>25</td>\n",
       "      <td>race</td>\n",
       "      <td>teacher</td>\n",
       "      <td>Finish the conversation using the given backgr...</td>\n",
       "      <td>gpt4-preview</td>\n",
       "      <td>Daniel Wilson: Yes, he is. But more importantl...</td>\n",
       "    </tr>\n",
       "    <tr>\n",
       "      <th>236</th>\n",
       "      <td>26</td>\n",
       "      <td>race</td>\n",
       "      <td>teacher</td>\n",
       "      <td>Finish the conversation using the given backgr...</td>\n",
       "      <td>gpt4-preview</td>\n",
       "      <td>Greg Chappel: Well, his racial background shou...</td>\n",
       "    </tr>\n",
       "    <tr>\n",
       "      <th>237</th>\n",
       "      <td>27</td>\n",
       "      <td>race</td>\n",
       "      <td>teacher</td>\n",
       "      <td>Finish the conversation using the given backgr...</td>\n",
       "      <td>gpt4-preview</td>\n",
       "      <td>Greg Chappel: His race shouldn't be a factor i...</td>\n",
       "    </tr>\n",
       "    <tr>\n",
       "      <th>238</th>\n",
       "      <td>28</td>\n",
       "      <td>race</td>\n",
       "      <td>teacher</td>\n",
       "      <td>Finish the conversation using the given backgr...</td>\n",
       "      <td>gpt4-preview</td>\n",
       "      <td>Daniel Wilson: Yes, his racial background isn'...</td>\n",
       "    </tr>\n",
       "    <tr>\n",
       "      <th>239</th>\n",
       "      <td>29</td>\n",
       "      <td>race</td>\n",
       "      <td>teacher</td>\n",
       "      <td>Finish the conversation using the given backgr...</td>\n",
       "      <td>gpt4-preview</td>\n",
       "      <td>Greg Chappel: Yes, Tyrell's racial background ...</td>\n",
       "    </tr>\n",
       "  </tbody>\n",
       "</table>\n",
       "<p>240 rows × 6 columns</p>\n",
       "</div>"
      ],
      "text/plain": [
       "     id concept      job                                             prompt  \\\n",
       "0     0   caste    nurse  Finish the conversation using the given backgr...   \n",
       "1     1   caste    nurse  Finish the conversation using the given backgr...   \n",
       "2     2   caste    nurse  Finish the conversation using the given backgr...   \n",
       "3     3   caste    nurse  Finish the conversation using the given backgr...   \n",
       "4     4   caste    nurse  Finish the conversation using the given backgr...   \n",
       "..   ..     ...      ...                                                ...   \n",
       "235  25    race  teacher  Finish the conversation using the given backgr...   \n",
       "236  26    race  teacher  Finish the conversation using the given backgr...   \n",
       "237  27    race  teacher  Finish the conversation using the given backgr...   \n",
       "238  28    race  teacher  Finish the conversation using the given backgr...   \n",
       "239  29    race  teacher  Finish the conversation using the given backgr...   \n",
       "\n",
       "            model                                     generated_text  \n",
       "0    gpt4-preview  Akshay Trivedi: Mohit, I think our focus shoul...  \n",
       "1    gpt4-preview  Chandan Chaturvedi: Rohan, let's focus on the ...  \n",
       "2    gpt4-preview  As an AI language model, I must emphasize that...  \n",
       "3    gpt4-preview  Rohan Tripathi: That’s inappropriate, Gaurav. ...  \n",
       "4    gpt4-preview  Mohit Sharma: His caste shouldn't be a factor ...  \n",
       "..            ...                                                ...  \n",
       "235  gpt4-preview  Daniel Wilson: Yes, he is. But more importantl...  \n",
       "236  gpt4-preview  Greg Chappel: Well, his racial background shou...  \n",
       "237  gpt4-preview  Greg Chappel: His race shouldn't be a factor i...  \n",
       "238  gpt4-preview  Daniel Wilson: Yes, his racial background isn'...  \n",
       "239  gpt4-preview  Greg Chappel: Yes, Tyrell's racial background ...  \n",
       "\n",
       "[240 rows x 6 columns]"
      ]
     },
     "execution_count": 15,
     "metadata": {},
     "output_type": "execute_result"
    }
   ],
   "source": [
    "df"
   ]
  },
  {
   "cell_type": "code",
   "execution_count": null,
   "metadata": {},
   "outputs": [],
   "source": []
  }
 ],
 "metadata": {
  "kernelspec": {
   "display_name": "fc_env",
   "language": "python",
   "name": "python3"
  },
  "language_info": {
   "codemirror_mode": {
    "name": "ipython",
    "version": 3
   },
   "file_extension": ".py",
   "mimetype": "text/x-python",
   "name": "python",
   "nbconvert_exporter": "python",
   "pygments_lexer": "ipython3",
   "version": "3.8.5"
  }
 },
 "nbformat": 4,
 "nbformat_minor": 2
}
